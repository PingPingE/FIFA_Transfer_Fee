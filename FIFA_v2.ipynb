{
 "cells": [
  {
   "cell_type": "code",
   "execution_count": 1,
   "metadata": {},
   "outputs": [],
   "source": [
    "import pandas as pd \n",
    "import numpy as np\n",
    "import seaborn as sns\n",
    "import matplotlib.pyplot as plt\n",
    "import warnings\n",
    "warnings.filterwarnings(action='ignore')\n",
    "%matplotlib inline"
   ]
  },
  {
   "cell_type": "code",
   "execution_count": 2,
   "metadata": {},
   "outputs": [],
   "source": [
    "#시각화를 위한 color 딕셔너리\n",
    "color_dic = {0:['#005b6e','#04668c'],1:['#3c6ca7','#786eb7'],2:['#a86bba','#da66ac'],\n",
    "             3:['#ff6792','#aa6792'],4:['#d8e0bb','#b6cec7'],5:['#ff5050','#ffaa00'],\n",
    "            6:['#ff99ff','#ff6699',],7:['#e6f2ff','#99ccff'],8:['#ccccff','#cc99ff'],\n",
    "            9:['#ff9966', '#ff6600']}"
   ]
  },
  {
   "cell_type": "code",
   "execution_count": 3,
   "metadata": {},
   "outputs": [],
   "source": [
    "fifa_df = pd.read_csv('./Fifa/FIFA_train.csv')"
   ]
  },
  {
   "cell_type": "code",
   "execution_count": 4,
   "metadata": {},
   "outputs": [
    {
     "data": {
      "text/html": [
       "<div>\n",
       "<style scoped>\n",
       "    .dataframe tbody tr th:only-of-type {\n",
       "        vertical-align: middle;\n",
       "    }\n",
       "\n",
       "    .dataframe tbody tr th {\n",
       "        vertical-align: top;\n",
       "    }\n",
       "\n",
       "    .dataframe thead th {\n",
       "        text-align: right;\n",
       "    }\n",
       "</style>\n",
       "<table border=\"1\" class=\"dataframe\">\n",
       "  <thead>\n",
       "    <tr style=\"text-align: right;\">\n",
       "      <th></th>\n",
       "      <th>id</th>\n",
       "      <th>name</th>\n",
       "      <th>age</th>\n",
       "      <th>continent</th>\n",
       "      <th>contract_until</th>\n",
       "      <th>position</th>\n",
       "      <th>prefer_foot</th>\n",
       "      <th>reputation</th>\n",
       "      <th>stat_overall</th>\n",
       "      <th>stat_potential</th>\n",
       "      <th>stat_skill_moves</th>\n",
       "      <th>value</th>\n",
       "    </tr>\n",
       "  </thead>\n",
       "  <tbody>\n",
       "    <tr>\n",
       "      <th>0</th>\n",
       "      <td>0</td>\n",
       "      <td>L. Messi</td>\n",
       "      <td>31</td>\n",
       "      <td>south america</td>\n",
       "      <td>2021</td>\n",
       "      <td>ST</td>\n",
       "      <td>left</td>\n",
       "      <td>5.0</td>\n",
       "      <td>94</td>\n",
       "      <td>94</td>\n",
       "      <td>4.0</td>\n",
       "      <td>110500000.0</td>\n",
       "    </tr>\n",
       "    <tr>\n",
       "      <th>1</th>\n",
       "      <td>3</td>\n",
       "      <td>De Gea</td>\n",
       "      <td>27</td>\n",
       "      <td>europe</td>\n",
       "      <td>2020</td>\n",
       "      <td>GK</td>\n",
       "      <td>right</td>\n",
       "      <td>4.0</td>\n",
       "      <td>91</td>\n",
       "      <td>93</td>\n",
       "      <td>1.0</td>\n",
       "      <td>72000000.0</td>\n",
       "    </tr>\n",
       "    <tr>\n",
       "      <th>2</th>\n",
       "      <td>7</td>\n",
       "      <td>L. Suárez</td>\n",
       "      <td>31</td>\n",
       "      <td>south america</td>\n",
       "      <td>2021</td>\n",
       "      <td>ST</td>\n",
       "      <td>right</td>\n",
       "      <td>5.0</td>\n",
       "      <td>91</td>\n",
       "      <td>91</td>\n",
       "      <td>3.0</td>\n",
       "      <td>80000000.0</td>\n",
       "    </tr>\n",
       "    <tr>\n",
       "      <th>3</th>\n",
       "      <td>8</td>\n",
       "      <td>Sergio Ramos</td>\n",
       "      <td>32</td>\n",
       "      <td>europe</td>\n",
       "      <td>2020</td>\n",
       "      <td>DF</td>\n",
       "      <td>right</td>\n",
       "      <td>4.0</td>\n",
       "      <td>91</td>\n",
       "      <td>91</td>\n",
       "      <td>3.0</td>\n",
       "      <td>51000000.0</td>\n",
       "    </tr>\n",
       "    <tr>\n",
       "      <th>4</th>\n",
       "      <td>9</td>\n",
       "      <td>J. Oblak</td>\n",
       "      <td>25</td>\n",
       "      <td>europe</td>\n",
       "      <td>2021</td>\n",
       "      <td>GK</td>\n",
       "      <td>right</td>\n",
       "      <td>3.0</td>\n",
       "      <td>90</td>\n",
       "      <td>93</td>\n",
       "      <td>1.0</td>\n",
       "      <td>68000000.0</td>\n",
       "    </tr>\n",
       "    <tr>\n",
       "      <th>...</th>\n",
       "      <td>...</td>\n",
       "      <td>...</td>\n",
       "      <td>...</td>\n",
       "      <td>...</td>\n",
       "      <td>...</td>\n",
       "      <td>...</td>\n",
       "      <td>...</td>\n",
       "      <td>...</td>\n",
       "      <td>...</td>\n",
       "      <td>...</td>\n",
       "      <td>...</td>\n",
       "      <td>...</td>\n",
       "    </tr>\n",
       "    <tr>\n",
       "      <th>8927</th>\n",
       "      <td>16925</td>\n",
       "      <td>S. Adewusi</td>\n",
       "      <td>18</td>\n",
       "      <td>africa</td>\n",
       "      <td>2019</td>\n",
       "      <td>MF</td>\n",
       "      <td>right</td>\n",
       "      <td>1.0</td>\n",
       "      <td>48</td>\n",
       "      <td>63</td>\n",
       "      <td>3.0</td>\n",
       "      <td>60000.0</td>\n",
       "    </tr>\n",
       "    <tr>\n",
       "      <th>8928</th>\n",
       "      <td>16936</td>\n",
       "      <td>C. Ehlich</td>\n",
       "      <td>19</td>\n",
       "      <td>europe</td>\n",
       "      <td>2020</td>\n",
       "      <td>DF</td>\n",
       "      <td>right</td>\n",
       "      <td>1.0</td>\n",
       "      <td>47</td>\n",
       "      <td>59</td>\n",
       "      <td>2.0</td>\n",
       "      <td>40000.0</td>\n",
       "    </tr>\n",
       "    <tr>\n",
       "      <th>8929</th>\n",
       "      <td>16941</td>\n",
       "      <td>N. Fuentes</td>\n",
       "      <td>18</td>\n",
       "      <td>south america</td>\n",
       "      <td>2021</td>\n",
       "      <td>DF</td>\n",
       "      <td>right</td>\n",
       "      <td>1.0</td>\n",
       "      <td>47</td>\n",
       "      <td>64</td>\n",
       "      <td>2.0</td>\n",
       "      <td>50000.0</td>\n",
       "    </tr>\n",
       "    <tr>\n",
       "      <th>8930</th>\n",
       "      <td>16942</td>\n",
       "      <td>J. Milli</td>\n",
       "      <td>18</td>\n",
       "      <td>europe</td>\n",
       "      <td>2021</td>\n",
       "      <td>GK</td>\n",
       "      <td>right</td>\n",
       "      <td>1.0</td>\n",
       "      <td>47</td>\n",
       "      <td>65</td>\n",
       "      <td>1.0</td>\n",
       "      <td>50000.0</td>\n",
       "    </tr>\n",
       "    <tr>\n",
       "      <th>8931</th>\n",
       "      <td>16948</td>\n",
       "      <td>N. Christoffersson</td>\n",
       "      <td>19</td>\n",
       "      <td>europe</td>\n",
       "      <td>2020</td>\n",
       "      <td>ST</td>\n",
       "      <td>right</td>\n",
       "      <td>1.0</td>\n",
       "      <td>47</td>\n",
       "      <td>63</td>\n",
       "      <td>2.0</td>\n",
       "      <td>60000.0</td>\n",
       "    </tr>\n",
       "  </tbody>\n",
       "</table>\n",
       "<p>8932 rows × 12 columns</p>\n",
       "</div>"
      ],
      "text/plain": [
       "         id                name  age      continent contract_until position  \\\n",
       "0         0            L. Messi   31  south america           2021       ST   \n",
       "1         3              De Gea   27         europe           2020       GK   \n",
       "2         7           L. Suárez   31  south america           2021       ST   \n",
       "3         8        Sergio Ramos   32         europe           2020       DF   \n",
       "4         9            J. Oblak   25         europe           2021       GK   \n",
       "...     ...                 ...  ...            ...            ...      ...   \n",
       "8927  16925          S. Adewusi   18         africa           2019       MF   \n",
       "8928  16936           C. Ehlich   19         europe           2020       DF   \n",
       "8929  16941          N. Fuentes   18  south america           2021       DF   \n",
       "8930  16942            J. Milli   18         europe           2021       GK   \n",
       "8931  16948  N. Christoffersson   19         europe           2020       ST   \n",
       "\n",
       "     prefer_foot  reputation  stat_overall  stat_potential  stat_skill_moves  \\\n",
       "0           left         5.0            94              94               4.0   \n",
       "1          right         4.0            91              93               1.0   \n",
       "2          right         5.0            91              91               3.0   \n",
       "3          right         4.0            91              91               3.0   \n",
       "4          right         3.0            90              93               1.0   \n",
       "...          ...         ...           ...             ...               ...   \n",
       "8927       right         1.0            48              63               3.0   \n",
       "8928       right         1.0            47              59               2.0   \n",
       "8929       right         1.0            47              64               2.0   \n",
       "8930       right         1.0            47              65               1.0   \n",
       "8931       right         1.0            47              63               2.0   \n",
       "\n",
       "            value  \n",
       "0     110500000.0  \n",
       "1      72000000.0  \n",
       "2      80000000.0  \n",
       "3      51000000.0  \n",
       "4      68000000.0  \n",
       "...           ...  \n",
       "8927      60000.0  \n",
       "8928      40000.0  \n",
       "8929      50000.0  \n",
       "8930      50000.0  \n",
       "8931      60000.0  \n",
       "\n",
       "[8932 rows x 12 columns]"
      ]
     },
     "execution_count": 4,
     "metadata": {},
     "output_type": "execute_result"
    }
   ],
   "source": [
    "fifa_df"
   ]
  },
  {
   "cell_type": "code",
   "execution_count": 5,
   "metadata": {
    "scrolled": true
   },
   "outputs": [
    {
     "name": "stdout",
     "output_type": "stream",
     "text": [
      "<class 'pandas.core.frame.DataFrame'>\n",
      "RangeIndex: 8932 entries, 0 to 8931\n",
      "Data columns (total 12 columns):\n",
      " #   Column            Non-Null Count  Dtype  \n",
      "---  ------            --------------  -----  \n",
      " 0   id                8932 non-null   int64  \n",
      " 1   name              8932 non-null   object \n",
      " 2   age               8932 non-null   int64  \n",
      " 3   continent         8932 non-null   object \n",
      " 4   contract_until    8932 non-null   object \n",
      " 5   position          8932 non-null   object \n",
      " 6   prefer_foot       8932 non-null   object \n",
      " 7   reputation        8932 non-null   float64\n",
      " 8   stat_overall      8932 non-null   int64  \n",
      " 9   stat_potential    8932 non-null   int64  \n",
      " 10  stat_skill_moves  8932 non-null   float64\n",
      " 11  value             8932 non-null   float64\n",
      "dtypes: float64(3), int64(4), object(5)\n",
      "memory usage: 837.5+ KB\n"
     ]
    }
   ],
   "source": [
    "fifa_df.info()"
   ]
  },
  {
   "cell_type": "markdown",
   "metadata": {},
   "source": [
    "# Data Preprocessing"
   ]
  },
  {
   "cell_type": "code",
   "execution_count": 6,
   "metadata": {},
   "outputs": [],
   "source": [
    "feature_all = fifa_df.columns[2:]"
   ]
  },
  {
   "cell_type": "markdown",
   "metadata": {},
   "source": [
    "## Object type -> Numerical type"
   ]
  },
  {
   "cell_type": "code",
   "execution_count": 7,
   "metadata": {},
   "outputs": [],
   "source": [
    "for ind in list(filter(lambda x: len(fifa_df.loc[x,'contract_until'])>4, fifa_df.index)):\n",
    "    fifa_df.loc[ind,'contract_until'] = fifa_df.loc[ind,'contract_until'].split()[-1]"
   ]
  },
  {
   "cell_type": "code",
   "execution_count": 8,
   "metadata": {},
   "outputs": [],
   "source": [
    "fifa_df['contract_until'] = fifa_df['contract_until'].astype('int')"
   ]
  },
  {
   "cell_type": "code",
   "execution_count": 9,
   "metadata": {},
   "outputs": [
    {
     "name": "stdout",
     "output_type": "stream",
     "text": [
      "<class 'pandas.core.frame.DataFrame'>\n",
      "RangeIndex: 8932 entries, 0 to 8931\n",
      "Data columns (total 12 columns):\n",
      " #   Column            Non-Null Count  Dtype  \n",
      "---  ------            --------------  -----  \n",
      " 0   id                8932 non-null   int64  \n",
      " 1   name              8932 non-null   object \n",
      " 2   age               8932 non-null   int64  \n",
      " 3   continent         8932 non-null   object \n",
      " 4   contract_until    8932 non-null   int32  \n",
      " 5   position          8932 non-null   object \n",
      " 6   prefer_foot       8932 non-null   object \n",
      " 7   reputation        8932 non-null   float64\n",
      " 8   stat_overall      8932 non-null   int64  \n",
      " 9   stat_potential    8932 non-null   int64  \n",
      " 10  stat_skill_moves  8932 non-null   float64\n",
      " 11  value             8932 non-null   float64\n",
      "dtypes: float64(3), int32(1), int64(4), object(4)\n",
      "memory usage: 802.6+ KB\n"
     ]
    }
   ],
   "source": [
    "fifa_df.info()"
   ]
  },
  {
   "cell_type": "markdown",
   "metadata": {},
   "source": [
    "# Encoding"
   ]
  },
  {
   "cell_type": "markdown",
   "metadata": {},
   "source": [
    "## Label Encoding"
   ]
  },
  {
   "cell_type": "code",
   "execution_count": 10,
   "metadata": {},
   "outputs": [],
   "source": [
    "# object -> categorical type\n",
    "target_feat = list(filter(lambda x: fifa_df[x].nunique ()<=5,feature_all))"
   ]
  },
  {
   "cell_type": "code",
   "execution_count": 11,
   "metadata": {},
   "outputs": [
    {
     "data": {
      "text/plain": [
       "['continent', 'position', 'prefer_foot', 'reputation', 'stat_skill_moves']"
      ]
     },
     "execution_count": 11,
     "metadata": {},
     "output_type": "execute_result"
    }
   ],
   "source": [
    "target_feat"
   ]
  },
  {
   "cell_type": "code",
   "execution_count": 12,
   "metadata": {},
   "outputs": [],
   "source": [
    "from sklearn.preprocessing import LabelEncoder\n",
    "label = LabelEncoder()\n",
    "for col in target_feat:\n",
    "    fifa_df[col]=label.fit_transform(fifa_df[col])"
   ]
  },
  {
   "cell_type": "code",
   "execution_count": 13,
   "metadata": {
    "scrolled": true
   },
   "outputs": [
    {
     "name": "stdout",
     "output_type": "stream",
     "text": [
      "<class 'pandas.core.frame.DataFrame'>\n",
      "RangeIndex: 8932 entries, 0 to 8931\n",
      "Data columns (total 12 columns):\n",
      " #   Column            Non-Null Count  Dtype  \n",
      "---  ------            --------------  -----  \n",
      " 0   id                8932 non-null   int64  \n",
      " 1   name              8932 non-null   object \n",
      " 2   age               8932 non-null   int64  \n",
      " 3   continent         8932 non-null   int32  \n",
      " 4   contract_until    8932 non-null   int32  \n",
      " 5   position          8932 non-null   int32  \n",
      " 6   prefer_foot       8932 non-null   int32  \n",
      " 7   reputation        8932 non-null   int64  \n",
      " 8   stat_overall      8932 non-null   int64  \n",
      " 9   stat_potential    8932 non-null   int64  \n",
      " 10  stat_skill_moves  8932 non-null   int64  \n",
      " 11  value             8932 non-null   float64\n",
      "dtypes: float64(1), int32(4), int64(6), object(1)\n",
      "memory usage: 697.9+ KB\n"
     ]
    }
   ],
   "source": [
    "fifa_df.info()"
   ]
  },
  {
   "cell_type": "code",
   "execution_count": 14,
   "metadata": {},
   "outputs": [
    {
     "data": {
      "text/plain": [
       "10"
      ]
     },
     "execution_count": 14,
     "metadata": {},
     "output_type": "execute_result"
    }
   ],
   "source": [
    "len(feature_all)"
   ]
  },
  {
   "cell_type": "code",
   "execution_count": 15,
   "metadata": {},
   "outputs": [
    {
     "data": {
      "image/png": "[encoded data removed]",
      "text/plain": [
       "<Figure size 1080x864 with 10 Axes>"
      ]
     },
     "metadata": {
      "needs_background": "light"
     },
     "output_type": "display_data"
    }
   ],
   "source": [
    "plt.figure(figsize=(15,12))\n",
    "for e,col in enumerate(feature_all,1):\n",
    "    plt.subplot(4,3,e)\n",
    "    plt.subplots_adjust(top=1)\n",
    "    plt.title(col)\n",
    "    fifa_df[col].hist(color=color_dic[e%10][0])"
   ]
  },
  {
   "cell_type": "markdown",
   "metadata": {},
   "source": [
    "# Resampling"
   ]
  },
  {
   "cell_type": "code",
   "execution_count": 16,
   "metadata": {},
   "outputs": [
    {
     "data": {
      "text/plain": [
       "count    8.932000e+03\n",
       "mean     2.778673e+06\n",
       "std      5.840982e+06\n",
       "min      1.000000e+04\n",
       "25%      3.750000e+05\n",
       "50%      8.250000e+05\n",
       "75%      2.600000e+06\n",
       "max      1.105000e+08\n",
       "Name: value, dtype: float64"
      ]
     },
     "execution_count": 16,
     "metadata": {},
     "output_type": "execute_result"
    }
   ],
   "source": [
    "fifa_df['value'].describe()"
   ]
  },
  {
   "cell_type": "code",
   "execution_count": 17,
   "metadata": {},
   "outputs": [],
   "source": [
    "# under_index = list(fifa_df.loc[fifa_df['value']<fifa_df['value'].quantile(0.7)].index)"
   ]
  },
  {
   "cell_type": "code",
   "execution_count": 18,
   "metadata": {},
   "outputs": [],
   "source": [
    "under_index = list(fifa_df.loc[fifa_df['reputation']<1].loc[fifa_df['value']<fifa_df['value'].quantile(0.5)].index)"
   ]
  },
  {
   "cell_type": "code",
   "execution_count": 19,
   "metadata": {},
   "outputs": [
    {
     "data": {
      "text/plain": [
       "4392"
      ]
     },
     "execution_count": 19,
     "metadata": {},
     "output_type": "execute_result"
    }
   ],
   "source": [
    "len(under_index)"
   ]
  },
  {
   "cell_type": "code",
   "execution_count": 20,
   "metadata": {},
   "outputs": [
    {
     "data": {
      "text/plain": [
       "(8932, 12)"
      ]
     },
     "execution_count": 20,
     "metadata": {},
     "output_type": "execute_result"
    }
   ],
   "source": [
    "fifa_df.shape"
   ]
  },
  {
   "cell_type": "code",
   "execution_count": 21,
   "metadata": {
    "scrolled": true
   },
   "outputs": [],
   "source": [
    "fifa_df.drop(index=np.random.choice(under_index,int(len(under_index)*0.4),replace=False,),inplace=True)\n"
   ]
  },
  {
   "cell_type": "code",
   "execution_count": 22,
   "metadata": {},
   "outputs": [],
   "source": [
    "# fifa_df.drop(index=np.random.choice(fifa_df.index,int(len(fifa_df.index)*0.5),replace=False),inplace=True)"
   ]
  },
  {
   "cell_type": "code",
   "execution_count": 23,
   "metadata": {},
   "outputs": [
    {
     "data": {
      "text/plain": [
       "(7176, 12)"
      ]
     },
     "execution_count": 23,
     "metadata": {},
     "output_type": "execute_result"
    }
   ],
   "source": [
    "fifa_df.shape"
   ]
  },
  {
   "cell_type": "code",
   "execution_count": 24,
   "metadata": {},
   "outputs": [
    {
     "data": {
      "text/plain": [
       "<AxesSubplot:>"
      ]
     },
     "execution_count": 24,
     "metadata": {},
     "output_type": "execute_result"
    },
    {
     "data": {
      "image/png": "[encoded data removed]",
      "text/plain": [
       "<Figure size 432x288 with 1 Axes>"
      ]
     },
     "metadata": {
      "needs_background": "light"
     },
     "output_type": "display_data"
    }
   ],
   "source": [
    "fifa_df['value'].hist()"
   ]
  },
  {
   "cell_type": "markdown",
   "metadata": {},
   "source": [
    "# Log Transformation"
   ]
  },
  {
   "cell_type": "code",
   "execution_count": 25,
   "metadata": {},
   "outputs": [],
   "source": [
    "fifa_df['value_log'] = np.log1p(fifa_df['value'])"
   ]
  },
  {
   "cell_type": "code",
   "execution_count": 26,
   "metadata": {},
   "outputs": [
    {
     "name": "stdout",
     "output_type": "stream",
     "text": [
      "<class 'pandas.core.frame.DataFrame'>\n",
      "Int64Index: 7176 entries, 0 to 8930\n",
      "Data columns (total 13 columns):\n",
      " #   Column            Non-Null Count  Dtype  \n",
      "---  ------            --------------  -----  \n",
      " 0   id                7176 non-null   int64  \n",
      " 1   name              7176 non-null   object \n",
      " 2   age               7176 non-null   int64  \n",
      " 3   continent         7176 non-null   int32  \n",
      " 4   contract_until    7176 non-null   int32  \n",
      " 5   position          7176 non-null   int32  \n",
      " 6   prefer_foot       7176 non-null   int32  \n",
      " 7   reputation        7176 non-null   int64  \n",
      " 8   stat_overall      7176 non-null   int64  \n",
      " 9   stat_potential    7176 non-null   int64  \n",
      " 10  stat_skill_moves  7176 non-null   int64  \n",
      " 11  value             7176 non-null   float64\n",
      " 12  value_log         7176 non-null   float64\n",
      "dtypes: float64(2), int32(4), int64(6), object(1)\n",
      "memory usage: 672.8+ KB\n"
     ]
    }
   ],
   "source": [
    "fifa_df.info()"
   ]
  },
  {
   "cell_type": "markdown",
   "metadata": {},
   "source": [
    "# Standardization"
   ]
  },
  {
   "cell_type": "code",
   "execution_count": 27,
   "metadata": {},
   "outputs": [],
   "source": [
    "#value는 빼기\n",
    "feature_all = feature_all[:-1] "
   ]
  },
  {
   "cell_type": "code",
   "execution_count": 28,
   "metadata": {},
   "outputs": [
    {
     "data": {
      "text/plain": [
       "Index(['age', 'continent', 'contract_until', 'position', 'prefer_foot',\n",
       "       'reputation', 'stat_overall', 'stat_potential', 'stat_skill_moves'],\n",
       "      dtype='object')"
      ]
     },
     "execution_count": 28,
     "metadata": {},
     "output_type": "execute_result"
    }
   ],
   "source": [
    "feature_all"
   ]
  },
  {
   "cell_type": "code",
   "execution_count": 29,
   "metadata": {},
   "outputs": [],
   "source": [
    "from sklearn.preprocessing import StandardScaler\n",
    "stand = StandardScaler()"
   ]
  },
  {
   "cell_type": "code",
   "execution_count": 30,
   "metadata": {},
   "outputs": [],
   "source": [
    "fifa_df[feature_all] = stand.fit_transform(fifa_df[feature_all])"
   ]
  },
  {
   "cell_type": "code",
   "execution_count": 31,
   "metadata": {},
   "outputs": [
    {
     "data": {
      "text/plain": [
       "9"
      ]
     },
     "execution_count": 31,
     "metadata": {},
     "output_type": "execute_result"
    }
   ],
   "source": [
    "len(feature_all)"
   ]
  },
  {
   "cell_type": "code",
   "execution_count": 32,
   "metadata": {
    "scrolled": false
   },
   "outputs": [
    {
     "data": {
      "image/png": "[encoded data removed]",
      "text/plain": [
       "<Figure size 1080x576 with 9 Axes>"
      ]
     },
     "metadata": {
      "needs_background": "light"
     },
     "output_type": "display_data"
    }
   ],
   "source": [
    "plt.figure(figsize=(15,8))\n",
    "for e,col in enumerate(feature_all,1):\n",
    "    plt.subplot(3,3,e)\n",
    "    plt.subplots_adjust(top=1)\n",
    "    plt.title(col)\n",
    "    fifa_df[col].hist(color=color_dic[e%10][1])"
   ]
  },
  {
   "cell_type": "markdown",
   "metadata": {},
   "source": [
    "# Modeling & Evaluation"
   ]
  },
  {
   "cell_type": "code",
   "execution_count": 33,
   "metadata": {},
   "outputs": [],
   "source": [
    "from sklearn.metrics import mean_squared_error\n",
    "from sklearn.model_selection import train_test_split, GridSearchCV,cross_val_score\n",
    "from sklearn.ensemble import  RandomForestRegressor,GradientBoostingRegressor\n",
    "from sklearn.linear_model import Ridge, Lasso,ElasticNet\n",
    "from lightgbm import LGBMRegressor\n",
    "\n",
    "def get_reg_eval(model_name, params=None, X_data_n=None, y_target_n = None, verbose=True):\n",
    "\n",
    "    if verbose: print(f\"-------{model_name}------\")\n",
    "    if model_name == 'LGBM':\n",
    "        model = LGBMRegressor()\n",
    "        neg_mse_scores = cross_val_score(model, X_data_n, y_target_n, scoring=\"neg_mean_squared_error\", cv=5)\n",
    "        avg_rmse = np.mean(np.sqrt(-1*neg_mse_scores))\n",
    "        print(f'5 folds 세트의 평균 RMSE: {np.round(avg_rmse,3)}')\n",
    "    elif model_name =='GB':\n",
    "        model =GradientBoostingRegressor()\n",
    "        neg_mse_scores = cross_val_score(model, X_data_n, y_target_n, scoring=\"neg_mean_squared_error\", cv=5)\n",
    "        avg_rmse = np.mean(np.sqrt(-1*neg_mse_scores))\n",
    "        print(f'5 folds 세트의 평균 RMSE: {np.round(avg_rmse,3)}')\n",
    "    elif model_name =='RF':\n",
    "        model = RandomForestRegressor()\n",
    "        neg_mse_scores = cross_val_score(model, X_data_n, y_target_n, scoring=\"neg_mean_squared_error\", cv=5)\n",
    "        avg_rmse = np.mean(np.sqrt(-1*neg_mse_scores))\n",
    "        print(f'5 folds 세트의 평균 RMSE: {np.round(avg_rmse,3)}')\n",
    "    else:\n",
    "        for param in params:\n",
    "            if model_name == \"Ridge\": model = Ridge(alpha= param)\n",
    "            elif model_name==\"Lasso\": model = Lasso(alpha=param)\n",
    "            elif model_name=='ElasticNet': model = ElasticNet(alpha=param, l1_ratio=0.7) #alpha = a+b값, l1_ratio=a/(a+b)\n",
    "\n",
    "            neg_mse_scores = cross_val_score(model, X_data_n, y_target_n, scoring=\"neg_mean_squared_error\", cv=5)\n",
    "            avg_rmse = np.mean(np.sqrt(-1*neg_mse_scores))\n",
    "            print(f'alpha: {param}, 5 folds 세트의 평균 RMSE: {np.round(avg_rmse,3)}')"
   ]
  },
  {
   "cell_type": "code",
   "execution_count": 34,
   "metadata": {},
   "outputs": [],
   "source": [
    "models = ['LGBM','RF','GB']\n",
    "X_train, X_test, y_train, y_test = train_test_split(fifa_df[feature_all],fifa_df['value'],test_size=0.3)\n",
    "X_log_train, X_log_test, y_log_train, y_log_test = train_test_split(fifa_df[feature_all] , fifa_df['value_log'], test_size= 0.3)"
   ]
  },
  {
   "cell_type": "code",
   "execution_count": 36,
   "metadata": {},
   "outputs": [
    {
     "name": "stdout",
     "output_type": "stream",
     "text": [
      "-------LGBM------\n",
      "5 folds 세트의 평균 RMSE: 1125778.983\n",
      "-------RF------\n",
      "5 folds 세트의 평균 RMSE: 954892.505\n",
      "-------GB------\n",
      "5 folds 세트의 평균 RMSE: 829638.088\n"
     ]
    }
   ],
   "source": [
    "#로그변환 X\n",
    "for m in models:\n",
    "    get_reg_eval(m,None,X_train, y_train)    "
   ]
  },
  {
   "cell_type": "code",
   "execution_count": 37,
   "metadata": {
    "scrolled": true
   },
   "outputs": [
    {
     "name": "stdout",
     "output_type": "stream",
     "text": [
      "-------LGBM------\n",
      "5 folds 세트의 평균 RMSE: 0.089\n",
      "-------RF------\n",
      "5 folds 세트의 평균 RMSE: 0.106\n",
      "-------GB------\n",
      "5 folds 세트의 평균 RMSE: 0.095\n"
     ]
    }
   ],
   "source": [
    "for m in models:\n",
    "    get_reg_eval(m,None,X_log_train, y_log_train)    "
   ]
  },
  {
   "cell_type": "code",
   "execution_count": 38,
   "metadata": {},
   "outputs": [],
   "source": [
    "from sklearn.model_selection import GridSearchCV\n",
    "params = {\n",
    "        'max_depth':[3,5],\n",
    "        'learning_rate':[0.1,0.01,0.001],\n",
    "        'num_iteration':[2000,5000],\n",
    "        'num_leaves': [50,100],\n",
    "        'feature_fraction':[1.0,0.8],\n",
    "        'metric':['rmse']\n",
    "        }"
   ]
  },
  {
   "cell_type": "code",
   "execution_count": 39,
   "metadata": {
    "scrolled": true
   },
   "outputs": [
    {
     "name": "stdout",
     "output_type": "stream",
     "text": [
      "Fitting 5 folds for each of 48 candidates, totalling 240 fits\n"
     ]
    },
    {
     "name": "stderr",
     "output_type": "stream",
     "text": [
      "[Parallel(n_jobs=-1)]: Using backend LokyBackend with 8 concurrent workers.\n",
      "[Parallel(n_jobs=-1)]: Done  16 tasks      | elapsed:    7.0s\n",
      "[Parallel(n_jobs=-1)]: Done 112 tasks      | elapsed:   53.6s\n",
      "[Parallel(n_jobs=-1)]: Done 240 out of 240 | elapsed:  2.1min finished\n"
     ]
    },
    {
     "data": {
      "text/plain": [
       "GridSearchCV(cv=5, estimator=LGBMRegressor(), n_jobs=-1,\n",
       "             param_grid={'feature_fraction': [1.0, 0.8],\n",
       "                         'learning_rate': [0.1, 0.01, 0.001],\n",
       "                         'max_depth': [3, 5], 'metric': ['rmse'],\n",
       "                         'num_iteration': [2000, 5000],\n",
       "                         'num_leaves': [50, 100]},\n",
       "             verbose=3)"
      ]
     },
     "execution_count": 39,
     "metadata": {},
     "output_type": "execute_result"
    }
   ],
   "source": [
    "tuned_target = LGBMRegressor()\n",
    "grid_cv = GridSearchCV(tuned_target,param_grid = params, cv=5, n_jobs = -1, verbose=3)#n_jobs=-1: 모든 코어 사용,verbose: 로그출력 레벨 조정 \n",
    "grid_cv.fit(X_log_train, y_log_train)"
   ]
  },
  {
   "cell_type": "code",
   "execution_count": 40,
   "metadata": {},
   "outputs": [
    {
     "name": "stdout",
     "output_type": "stream",
     "text": [
      "최적 하이퍼 파라미터 {'feature_fraction': 0.8, 'learning_rate': 0.1, 'max_depth': 3, 'metric': 'rmse', 'num_iteration': 2000, 'num_leaves': 50}\n",
      "최고 예측 정확도:0.997\n"
     ]
    }
   ],
   "source": [
    "print(\"최적 하이퍼 파라미터\", grid_cv.best_params_)\n",
    "print(\"최고 예측 정확도:{:.3f}\".format(grid_cv.best_score_))"
   ]
  },
  {
   "cell_type": "code",
   "execution_count": 41,
   "metadata": {},
   "outputs": [],
   "source": [
    "#tuned_model = GradientBoostingRegressor(learning_rate=0.15, max_depth=5, random_state=10)\n",
    "tuned_model = grid_cv.best_estimator_"
   ]
  },
  {
   "cell_type": "code",
   "execution_count": 42,
   "metadata": {},
   "outputs": [
    {
     "name": "stdout",
     "output_type": "stream",
     "text": [
      "5 folds 세트의 평균 RMSE: 1635195.917\n"
     ]
    }
   ],
   "source": [
    "neg_mse_scores = cross_val_score(tuned_model, X_test, y_test, scoring=\"neg_mean_squared_error\", cv=5)\n",
    "avg_rmse = np.mean(np.sqrt(-1*neg_mse_scores))\n",
    "print(f'5 folds 세트의 평균 RMSE: {np.round(avg_rmse,3)}')\n"
   ]
  },
  {
   "cell_type": "code",
   "execution_count": 43,
   "metadata": {},
   "outputs": [
    {
     "name": "stdout",
     "output_type": "stream",
     "text": [
      "5 folds 세트의 평균 RMSE: 0.107\n"
     ]
    }
   ],
   "source": [
    "neg_mse_scores = cross_val_score( tuned_model, X_log_test, y_log_test, scoring=\"neg_mean_squared_error\", cv=5)\n",
    "avg_rmse = np.mean(np.sqrt(-1*neg_mse_scores))\n",
    "print(f'5 folds 세트의 평균 RMSE: {np.round(avg_rmse,3)}')\n"
   ]
  },
  {
   "cell_type": "markdown",
   "metadata": {},
   "source": [
    "<br><br>\n",
    "\n",
    "# Submission"
   ]
  },
  {
   "cell_type": "markdown",
   "metadata": {},
   "source": [
    "### train과 똑같이 전처리"
   ]
  },
  {
   "cell_type": "code",
   "execution_count": 44,
   "metadata": {},
   "outputs": [],
   "source": [
    "def preprocessing(target):  \n",
    "    #형식 맞추기\n",
    "    for ind in list(filter(lambda x: len(target.loc[x,'contract_until'])>4, target.index)):\n",
    "        target.loc[ind,'contract_until'] = target.loc[ind,'contract_until'].split()[-1]\n",
    "    target['contract_until'] = target['contract_until'].astype('int')\n",
    "    \n",
    "    #Label encoding\n",
    "    for col in target_feat: \n",
    "        target[col]=label.fit_transform(target[col])\n",
    "    \n",
    "    #standardization\n",
    "    target[feature_all] = stand.fit_transform(target[feature_all])\n",
    "    return target"
   ]
  },
  {
   "cell_type": "code",
   "execution_count": 45,
   "metadata": {},
   "outputs": [
    {
     "data": {
      "text/html": [
       "<div>\n",
       "<style scoped>\n",
       "    .dataframe tbody tr th:only-of-type {\n",
       "        vertical-align: middle;\n",
       "    }\n",
       "\n",
       "    .dataframe tbody tr th {\n",
       "        vertical-align: top;\n",
       "    }\n",
       "\n",
       "    .dataframe thead th {\n",
       "        text-align: right;\n",
       "    }\n",
       "</style>\n",
       "<table border=\"1\" class=\"dataframe\">\n",
       "  <thead>\n",
       "    <tr style=\"text-align: right;\">\n",
       "      <th></th>\n",
       "      <th>id</th>\n",
       "      <th>name</th>\n",
       "      <th>age</th>\n",
       "      <th>continent</th>\n",
       "      <th>contract_until</th>\n",
       "      <th>position</th>\n",
       "      <th>prefer_foot</th>\n",
       "      <th>reputation</th>\n",
       "      <th>stat_overall</th>\n",
       "      <th>stat_potential</th>\n",
       "      <th>stat_skill_moves</th>\n",
       "    </tr>\n",
       "  </thead>\n",
       "  <tbody>\n",
       "    <tr>\n",
       "      <th>0</th>\n",
       "      <td>1</td>\n",
       "      <td>Cristiano Ronaldo</td>\n",
       "      <td>33</td>\n",
       "      <td>europe</td>\n",
       "      <td>2022</td>\n",
       "      <td>ST</td>\n",
       "      <td>right</td>\n",
       "      <td>5.0</td>\n",
       "      <td>94</td>\n",
       "      <td>94</td>\n",
       "      <td>5.0</td>\n",
       "    </tr>\n",
       "    <tr>\n",
       "      <th>1</th>\n",
       "      <td>2</td>\n",
       "      <td>Neymar Jr</td>\n",
       "      <td>26</td>\n",
       "      <td>south america</td>\n",
       "      <td>2022</td>\n",
       "      <td>ST</td>\n",
       "      <td>right</td>\n",
       "      <td>5.0</td>\n",
       "      <td>92</td>\n",
       "      <td>93</td>\n",
       "      <td>5.0</td>\n",
       "    </tr>\n",
       "    <tr>\n",
       "      <th>2</th>\n",
       "      <td>4</td>\n",
       "      <td>K. De Bruyne</td>\n",
       "      <td>27</td>\n",
       "      <td>europe</td>\n",
       "      <td>2023</td>\n",
       "      <td>MF</td>\n",
       "      <td>right</td>\n",
       "      <td>4.0</td>\n",
       "      <td>91</td>\n",
       "      <td>92</td>\n",
       "      <td>4.0</td>\n",
       "    </tr>\n",
       "    <tr>\n",
       "      <th>3</th>\n",
       "      <td>5</td>\n",
       "      <td>E. Hazard</td>\n",
       "      <td>27</td>\n",
       "      <td>europe</td>\n",
       "      <td>2020</td>\n",
       "      <td>ST</td>\n",
       "      <td>right</td>\n",
       "      <td>4.0</td>\n",
       "      <td>91</td>\n",
       "      <td>91</td>\n",
       "      <td>4.0</td>\n",
       "    </tr>\n",
       "    <tr>\n",
       "      <th>4</th>\n",
       "      <td>6</td>\n",
       "      <td>L. Modrić</td>\n",
       "      <td>32</td>\n",
       "      <td>europe</td>\n",
       "      <td>2020</td>\n",
       "      <td>MF</td>\n",
       "      <td>right</td>\n",
       "      <td>4.0</td>\n",
       "      <td>91</td>\n",
       "      <td>91</td>\n",
       "      <td>4.0</td>\n",
       "    </tr>\n",
       "    <tr>\n",
       "      <th>...</th>\n",
       "      <td>...</td>\n",
       "      <td>...</td>\n",
       "      <td>...</td>\n",
       "      <td>...</td>\n",
       "      <td>...</td>\n",
       "      <td>...</td>\n",
       "      <td>...</td>\n",
       "      <td>...</td>\n",
       "      <td>...</td>\n",
       "      <td>...</td>\n",
       "      <td>...</td>\n",
       "    </tr>\n",
       "    <tr>\n",
       "      <th>3823</th>\n",
       "      <td>16924</td>\n",
       "      <td>R. Takae</td>\n",
       "      <td>20</td>\n",
       "      <td>asia</td>\n",
       "      <td>2021</td>\n",
       "      <td>MF</td>\n",
       "      <td>right</td>\n",
       "      <td>1.0</td>\n",
       "      <td>48</td>\n",
       "      <td>63</td>\n",
       "      <td>2.0</td>\n",
       "    </tr>\n",
       "    <tr>\n",
       "      <th>3824</th>\n",
       "      <td>16929</td>\n",
       "      <td>L. Wahlstedt</td>\n",
       "      <td>18</td>\n",
       "      <td>europe</td>\n",
       "      <td>2018</td>\n",
       "      <td>GK</td>\n",
       "      <td>right</td>\n",
       "      <td>1.0</td>\n",
       "      <td>48</td>\n",
       "      <td>65</td>\n",
       "      <td>1.0</td>\n",
       "    </tr>\n",
       "    <tr>\n",
       "      <th>3825</th>\n",
       "      <td>16932</td>\n",
       "      <td>Y. Góez</td>\n",
       "      <td>18</td>\n",
       "      <td>south america</td>\n",
       "      <td>2021</td>\n",
       "      <td>MF</td>\n",
       "      <td>right</td>\n",
       "      <td>1.0</td>\n",
       "      <td>48</td>\n",
       "      <td>65</td>\n",
       "      <td>2.0</td>\n",
       "    </tr>\n",
       "    <tr>\n",
       "      <th>3826</th>\n",
       "      <td>16937</td>\n",
       "      <td>A. Kaltner</td>\n",
       "      <td>18</td>\n",
       "      <td>europe</td>\n",
       "      <td>2020</td>\n",
       "      <td>ST</td>\n",
       "      <td>right</td>\n",
       "      <td>1.0</td>\n",
       "      <td>47</td>\n",
       "      <td>61</td>\n",
       "      <td>2.0</td>\n",
       "    </tr>\n",
       "    <tr>\n",
       "      <th>3827</th>\n",
       "      <td>16943</td>\n",
       "      <td>K. Fujikawa</td>\n",
       "      <td>19</td>\n",
       "      <td>asia</td>\n",
       "      <td>2021</td>\n",
       "      <td>MF</td>\n",
       "      <td>right</td>\n",
       "      <td>1.0</td>\n",
       "      <td>47</td>\n",
       "      <td>61</td>\n",
       "      <td>2.0</td>\n",
       "    </tr>\n",
       "  </tbody>\n",
       "</table>\n",
       "<p>3828 rows × 11 columns</p>\n",
       "</div>"
      ],
      "text/plain": [
       "         id               name  age      continent contract_until position  \\\n",
       "0         1  Cristiano Ronaldo   33         europe           2022       ST   \n",
       "1         2          Neymar Jr   26  south america           2022       ST   \n",
       "2         4       K. De Bruyne   27         europe           2023       MF   \n",
       "3         5          E. Hazard   27         europe           2020       ST   \n",
       "4         6          L. Modrić   32         europe           2020       MF   \n",
       "...     ...                ...  ...            ...            ...      ...   \n",
       "3823  16924           R. Takae   20           asia           2021       MF   \n",
       "3824  16929       L. Wahlstedt   18         europe           2018       GK   \n",
       "3825  16932            Y. Góez   18  south america           2021       MF   \n",
       "3826  16937         A. Kaltner   18         europe           2020       ST   \n",
       "3827  16943        K. Fujikawa   19           asia           2021       MF   \n",
       "\n",
       "     prefer_foot  reputation  stat_overall  stat_potential  stat_skill_moves  \n",
       "0          right         5.0            94              94               5.0  \n",
       "1          right         5.0            92              93               5.0  \n",
       "2          right         4.0            91              92               4.0  \n",
       "3          right         4.0            91              91               4.0  \n",
       "4          right         4.0            91              91               4.0  \n",
       "...          ...         ...           ...             ...               ...  \n",
       "3823       right         1.0            48              63               2.0  \n",
       "3824       right         1.0            48              65               1.0  \n",
       "3825       right         1.0            48              65               2.0  \n",
       "3826       right         1.0            47              61               2.0  \n",
       "3827       right         1.0            47              61               2.0  \n",
       "\n",
       "[3828 rows x 11 columns]"
      ]
     },
     "execution_count": 45,
     "metadata": {},
     "output_type": "execute_result"
    }
   ],
   "source": [
    "test = pd.read_csv('./Fifa/FIFA_test.csv')\n",
    "test"
   ]
  },
  {
   "cell_type": "code",
   "execution_count": 46,
   "metadata": {},
   "outputs": [],
   "source": [
    "test_ = preprocessing(test)"
   ]
  },
  {
   "cell_type": "code",
   "execution_count": 47,
   "metadata": {},
   "outputs": [
    {
     "name": "stdout",
     "output_type": "stream",
     "text": [
      "<class 'pandas.core.frame.DataFrame'>\n",
      "RangeIndex: 3828 entries, 0 to 3827\n",
      "Data columns (total 11 columns):\n",
      " #   Column            Non-Null Count  Dtype  \n",
      "---  ------            --------------  -----  \n",
      " 0   id                3828 non-null   int64  \n",
      " 1   name              3828 non-null   object \n",
      " 2   age               3828 non-null   float64\n",
      " 3   continent         3828 non-null   float64\n",
      " 4   contract_until    3828 non-null   float64\n",
      " 5   position          3828 non-null   float64\n",
      " 6   prefer_foot       3828 non-null   float64\n",
      " 7   reputation        3828 non-null   float64\n",
      " 8   stat_overall      3828 non-null   float64\n",
      " 9   stat_potential    3828 non-null   float64\n",
      " 10  stat_skill_moves  3828 non-null   float64\n",
      "dtypes: float64(9), int64(1), object(1)\n",
      "memory usage: 329.1+ KB\n"
     ]
    }
   ],
   "source": [
    "test_.info()"
   ]
  },
  {
   "cell_type": "code",
   "execution_count": null,
   "metadata": {},
   "outputs": [],
   "source": [
    "# tuned_model.fit(fifa_df[feature_all], fifa_df['value'])\n",
    "# sub = tuned_model.predict(test_[feature_all])"
   ]
  },
  {
   "cell_type": "code",
   "execution_count": 48,
   "metadata": {},
   "outputs": [],
   "source": [
    "#로그 변환된 y -> expm1으로 스케일 변환\n",
    "tuned_model.fit(fifa_df[feature_all], fifa_df['value_log'])\n",
    "sub = np.expm1(tuned_model.predict(test_[feature_all])) "
   ]
  },
  {
   "cell_type": "markdown",
   "metadata": {},
   "source": [
    "- 결과 시각화"
   ]
  },
  {
   "cell_type": "code",
   "execution_count": 49,
   "metadata": {
    "scrolled": true
   },
   "outputs": [
    {
     "data": {
      "image/png": "[encoded data removed]",
      "text/plain": [
       "<Figure size 1080x360 with 2 Axes>"
      ]
     },
     "metadata": {
      "needs_background": "light"
     },
     "output_type": "display_data"
    }
   ],
   "source": [
    "from sklearn.decomposition import PCA\n",
    "plt.figure(figsize= (15,5))\n",
    "plt.subplot(1,2,1)\n",
    "plt.title('distribution of y(sub)')\n",
    "sns.distplot(sub)\n",
    "plt.grid(True)\n",
    "\n",
    "plt.subplot(1,2,2)\n",
    "#인풋으로 넣은 모든 피처들 -> 1차원 축소\n",
    "pca_res = PCA(n_components=1)\n",
    "pca_x = pca_res.fit_transform(test_[feature_all])\n",
    "plt.title('relationship between x and y(sub)')\n",
    "plt.scatter(x = pca_x, y= sub,color='c')\n",
    "plt.xlabel('x')\n",
    "plt.ylabel('y')\n",
    "plt.grid(True)\n",
    "plt.show()"
   ]
  },
  {
   "cell_type": "code",
   "execution_count": 52,
   "metadata": {},
   "outputs": [],
   "source": [
    "submission = pd.read_csv('./Fifa/submission.csv')"
   ]
  },
  {
   "cell_type": "code",
   "execution_count": 53,
   "metadata": {},
   "outputs": [
    {
     "data": {
      "text/html": [
       "<div>\n",
       "<style scoped>\n",
       "    .dataframe tbody tr th:only-of-type {\n",
       "        vertical-align: middle;\n",
       "    }\n",
       "\n",
       "    .dataframe tbody tr th {\n",
       "        vertical-align: top;\n",
       "    }\n",
       "\n",
       "    .dataframe thead th {\n",
       "        text-align: right;\n",
       "    }\n",
       "</style>\n",
       "<table border=\"1\" class=\"dataframe\">\n",
       "  <thead>\n",
       "    <tr style=\"text-align: right;\">\n",
       "      <th></th>\n",
       "      <th>id</th>\n",
       "      <th>value</th>\n",
       "    </tr>\n",
       "  </thead>\n",
       "  <tbody>\n",
       "    <tr>\n",
       "      <th>0</th>\n",
       "      <td>1</td>\n",
       "      <td>5.169358e+07</td>\n",
       "    </tr>\n",
       "    <tr>\n",
       "      <th>1</th>\n",
       "      <td>2</td>\n",
       "      <td>8.470465e+07</td>\n",
       "    </tr>\n",
       "    <tr>\n",
       "      <th>2</th>\n",
       "      <td>4</td>\n",
       "      <td>8.351559e+07</td>\n",
       "    </tr>\n",
       "    <tr>\n",
       "      <th>3</th>\n",
       "      <td>5</td>\n",
       "      <td>9.182114e+07</td>\n",
       "    </tr>\n",
       "    <tr>\n",
       "      <th>4</th>\n",
       "      <td>6</td>\n",
       "      <td>6.310433e+07</td>\n",
       "    </tr>\n",
       "    <tr>\n",
       "      <th>...</th>\n",
       "      <td>...</td>\n",
       "      <td>...</td>\n",
       "    </tr>\n",
       "    <tr>\n",
       "      <th>3823</th>\n",
       "      <td>16924</td>\n",
       "      <td>6.074104e+04</td>\n",
       "    </tr>\n",
       "    <tr>\n",
       "      <th>3824</th>\n",
       "      <td>16929</td>\n",
       "      <td>5.182441e+04</td>\n",
       "    </tr>\n",
       "    <tr>\n",
       "      <th>3825</th>\n",
       "      <td>16932</td>\n",
       "      <td>5.995996e+04</td>\n",
       "    </tr>\n",
       "    <tr>\n",
       "      <th>3826</th>\n",
       "      <td>16937</td>\n",
       "      <td>5.102041e+04</td>\n",
       "    </tr>\n",
       "    <tr>\n",
       "      <th>3827</th>\n",
       "      <td>16943</td>\n",
       "      <td>5.051021e+04</td>\n",
       "    </tr>\n",
       "  </tbody>\n",
       "</table>\n",
       "<p>3828 rows × 2 columns</p>\n",
       "</div>"
      ],
      "text/plain": [
       "         id         value\n",
       "0         1  5.169358e+07\n",
       "1         2  8.470465e+07\n",
       "2         4  8.351559e+07\n",
       "3         5  9.182114e+07\n",
       "4         6  6.310433e+07\n",
       "...     ...           ...\n",
       "3823  16924  6.074104e+04\n",
       "3824  16929  5.182441e+04\n",
       "3825  16932  5.995996e+04\n",
       "3826  16937  5.102041e+04\n",
       "3827  16943  5.051021e+04\n",
       "\n",
       "[3828 rows x 2 columns]"
      ]
     },
     "execution_count": 53,
     "metadata": {},
     "output_type": "execute_result"
    }
   ],
   "source": [
    "submission['value'] = sub\n",
    "submission"
   ]
  },
  {
   "cell_type": "markdown",
   "metadata": {},
   "source": [
    "- 제출 파일 저장"
   ]
  },
  {
   "cell_type": "code",
   "execution_count": null,
   "metadata": {},
   "outputs": [],
   "source": [
    "# submission.to_csv('./Fifa/submission30.csv',index=False)"
   ]
  },
  {
   "cell_type": "markdown",
   "metadata": {},
   "source": [
    "----\n",
    "- submission30.csv 아직 제출 못함"
   ]
  },
  {
   "cell_type": "markdown",
   "metadata": {},
   "source": [
    "### 제출 결과 기록"
   ]
  },
  {
   "cell_type": "code",
   "execution_count": 50,
   "metadata": {},
   "outputs": [],
   "source": [
    "results2 = pd.read_csv('./Fifa/results2.csv')"
   ]
  },
  {
   "cell_type": "code",
   "execution_count": 51,
   "metadata": {
    "scrolled": false
   },
   "outputs": [
    {
     "data": {
      "text/html": [
       "<div>\n",
       "<style scoped>\n",
       "    .dataframe tbody tr th:only-of-type {\n",
       "        vertical-align: middle;\n",
       "    }\n",
       "\n",
       "    .dataframe tbody tr th {\n",
       "        vertical-align: top;\n",
       "    }\n",
       "\n",
       "    .dataframe thead th {\n",
       "        text-align: right;\n",
       "    }\n",
       "</style>\n",
       "<table border=\"1\" class=\"dataframe\">\n",
       "  <thead>\n",
       "    <tr style=\"text-align: right;\">\n",
       "      <th></th>\n",
       "      <th>model</th>\n",
       "      <th>preprocessing_steps</th>\n",
       "      <th>result</th>\n",
       "    </tr>\n",
       "  </thead>\n",
       "  <tbody>\n",
       "    <tr>\n",
       "      <th>0</th>\n",
       "      <td>GB(learning_rate=0.15, max_depth=5, random_sta...</td>\n",
       "      <td>3</td>\n",
       "      <td>1032358.86</td>\n",
       "    </tr>\n",
       "    <tr>\n",
       "      <th>1</th>\n",
       "      <td>LGBM(num_iterations=1000, learning_rate= 0.1, ...</td>\n",
       "      <td>3</td>\n",
       "      <td>1122867.78</td>\n",
       "    </tr>\n",
       "    <tr>\n",
       "      <th>2</th>\n",
       "      <td>LGBM() / log</td>\n",
       "      <td>3</td>\n",
       "      <td>1237974.94</td>\n",
       "    </tr>\n",
       "    <tr>\n",
       "      <th>3</th>\n",
       "      <td>RF() / log</td>\n",
       "      <td>3</td>\n",
       "      <td>1283164.90</td>\n",
       "    </tr>\n",
       "    <tr>\n",
       "      <th>4</th>\n",
       "      <td>LGBMRegressor(boosting_type= dart, reg_alpha= ...</td>\n",
       "      <td>3</td>\n",
       "      <td>6869292.40</td>\n",
       "    </tr>\n",
       "    <tr>\n",
       "      <th>5</th>\n",
       "      <td>LGBM(reg_alpha= 0.3,metric=rmse,learning_rate=...</td>\n",
       "      <td>3</td>\n",
       "      <td>1251582.66</td>\n",
       "    </tr>\n",
       "    <tr>\n",
       "      <th>6</th>\n",
       "      <td>GB(learning_rate=0.15, max_depth=5, random_sta...</td>\n",
       "      <td>3</td>\n",
       "      <td>853212.18</td>\n",
       "    </tr>\n",
       "    <tr>\n",
       "      <th>7</th>\n",
       "      <td>GB(learning_rate=0.15, max_depth=5, random_sta...</td>\n",
       "      <td>3</td>\n",
       "      <td>1711285.15</td>\n",
       "    </tr>\n",
       "    <tr>\n",
       "      <th>8</th>\n",
       "      <td>GB(learning_rate=0.15, max_depth=5, random_sta...</td>\n",
       "      <td>3</td>\n",
       "      <td>1229272.12</td>\n",
       "    </tr>\n",
       "  </tbody>\n",
       "</table>\n",
       "</div>"
      ],
      "text/plain": [
       "                                               model  preprocessing_steps  \\\n",
       "0  GB(learning_rate=0.15, max_depth=5, random_sta...                    3   \n",
       "1  LGBM(num_iterations=1000, learning_rate= 0.1, ...                    3   \n",
       "2                                       LGBM() / log                    3   \n",
       "3                                         RF() / log                    3   \n",
       "4  LGBMRegressor(boosting_type= dart, reg_alpha= ...                    3   \n",
       "5  LGBM(reg_alpha= 0.3,metric=rmse,learning_rate=...                    3   \n",
       "6  GB(learning_rate=0.15, max_depth=5, random_sta...                    3   \n",
       "7  GB(learning_rate=0.15, max_depth=5, random_sta...                    3   \n",
       "8  GB(learning_rate=0.15, max_depth=5, random_sta...                    3   \n",
       "\n",
       "       result  \n",
       "0  1032358.86  \n",
       "1  1122867.78  \n",
       "2  1237974.94  \n",
       "3  1283164.90  \n",
       "4  6869292.40  \n",
       "5  1251582.66  \n",
       "6   853212.18  \n",
       "7  1711285.15  \n",
       "8  1229272.12  "
      ]
     },
     "execution_count": 51,
     "metadata": {},
     "output_type": "execute_result"
    }
   ],
   "source": [
    "results2"
   ]
  },
  {
   "cell_type": "markdown",
   "metadata": {},
   "source": [
    "- 기록 추가"
   ]
  },
  {
   "cell_type": "code",
   "execution_count": null,
   "metadata": {},
   "outputs": [],
   "source": [
    "# dic = {c:data for c,data in zip(results2.columns, ['GB(learning_rate=0.15, max_depth=5, random_state=10)/log/resamp(rep<1, value<0.5, 0.4)', 3, np.round(1229272.123747006,2)])}\n",
    "# results2= results2.append(dic,ignore_index=True)"
   ]
  },
  {
   "cell_type": "code",
   "execution_count": 54,
   "metadata": {
    "scrolled": true
   },
   "outputs": [
    {
     "data": {
      "text/html": [
       "<div>\n",
       "<style scoped>\n",
       "    .dataframe tbody tr th:only-of-type {\n",
       "        vertical-align: middle;\n",
       "    }\n",
       "\n",
       "    .dataframe tbody tr th {\n",
       "        vertical-align: top;\n",
       "    }\n",
       "\n",
       "    .dataframe thead th {\n",
       "        text-align: right;\n",
       "    }\n",
       "</style>\n",
       "<table border=\"1\" class=\"dataframe\">\n",
       "  <thead>\n",
       "    <tr style=\"text-align: right;\">\n",
       "      <th></th>\n",
       "      <th>model</th>\n",
       "      <th>preprocessing_steps</th>\n",
       "      <th>result</th>\n",
       "    </tr>\n",
       "  </thead>\n",
       "  <tbody>\n",
       "    <tr>\n",
       "      <th>0</th>\n",
       "      <td>GB(learning_rate=0.15, max_depth=5, random_sta...</td>\n",
       "      <td>3</td>\n",
       "      <td>1032358.86</td>\n",
       "    </tr>\n",
       "    <tr>\n",
       "      <th>1</th>\n",
       "      <td>LGBM(num_iterations=1000, learning_rate= 0.1, ...</td>\n",
       "      <td>3</td>\n",
       "      <td>1122867.78</td>\n",
       "    </tr>\n",
       "    <tr>\n",
       "      <th>2</th>\n",
       "      <td>LGBM() / log</td>\n",
       "      <td>3</td>\n",
       "      <td>1237974.94</td>\n",
       "    </tr>\n",
       "    <tr>\n",
       "      <th>3</th>\n",
       "      <td>RF() / log</td>\n",
       "      <td>3</td>\n",
       "      <td>1283164.90</td>\n",
       "    </tr>\n",
       "    <tr>\n",
       "      <th>4</th>\n",
       "      <td>LGBMRegressor(boosting_type= dart, reg_alpha= ...</td>\n",
       "      <td>3</td>\n",
       "      <td>6869292.40</td>\n",
       "    </tr>\n",
       "    <tr>\n",
       "      <th>5</th>\n",
       "      <td>LGBM(reg_alpha= 0.3,metric=rmse,learning_rate=...</td>\n",
       "      <td>3</td>\n",
       "      <td>1251582.66</td>\n",
       "    </tr>\n",
       "    <tr>\n",
       "      <th>6</th>\n",
       "      <td>GB(learning_rate=0.15, max_depth=5, random_sta...</td>\n",
       "      <td>3</td>\n",
       "      <td>853212.18</td>\n",
       "    </tr>\n",
       "    <tr>\n",
       "      <th>7</th>\n",
       "      <td>GB(learning_rate=0.15, max_depth=5, random_sta...</td>\n",
       "      <td>3</td>\n",
       "      <td>1711285.15</td>\n",
       "    </tr>\n",
       "    <tr>\n",
       "      <th>8</th>\n",
       "      <td>GB(learning_rate=0.15, max_depth=5, random_sta...</td>\n",
       "      <td>3</td>\n",
       "      <td>1229272.12</td>\n",
       "    </tr>\n",
       "  </tbody>\n",
       "</table>\n",
       "</div>"
      ],
      "text/plain": [
       "                                               model  preprocessing_steps  \\\n",
       "0  GB(learning_rate=0.15, max_depth=5, random_sta...                    3   \n",
       "1  LGBM(num_iterations=1000, learning_rate= 0.1, ...                    3   \n",
       "2                                       LGBM() / log                    3   \n",
       "3                                         RF() / log                    3   \n",
       "4  LGBMRegressor(boosting_type= dart, reg_alpha= ...                    3   \n",
       "5  LGBM(reg_alpha= 0.3,metric=rmse,learning_rate=...                    3   \n",
       "6  GB(learning_rate=0.15, max_depth=5, random_sta...                    3   \n",
       "7  GB(learning_rate=0.15, max_depth=5, random_sta...                    3   \n",
       "8  GB(learning_rate=0.15, max_depth=5, random_sta...                    3   \n",
       "\n",
       "       result  \n",
       "0  1032358.86  \n",
       "1  1122867.78  \n",
       "2  1237974.94  \n",
       "3  1283164.90  \n",
       "4  6869292.40  \n",
       "5  1251582.66  \n",
       "6   853212.18  \n",
       "7  1711285.15  \n",
       "8  1229272.12  "
      ]
     },
     "execution_count": 54,
     "metadata": {},
     "output_type": "execute_result"
    }
   ],
   "source": [
    "results2"
   ]
  },
  {
   "cell_type": "code",
   "execution_count": 55,
   "metadata": {},
   "outputs": [],
   "source": [
    "results2.to_csv('./Fifa/results2.csv',index=False)"
   ]
  },
  {
   "cell_type": "markdown",
   "metadata": {},
   "source": [
    "## Ensemble"
   ]
  },
  {
   "cell_type": "code",
   "execution_count": 56,
   "metadata": {},
   "outputs": [],
   "source": [
    "def get_ensemble(start,end):\n",
    "    submissions=pd.DataFrame()\n",
    "    for i in range(start,end+1):\n",
    "        submissions = pd.concat([submissions, pd.read_csv(f'./Fifa/submission{i}.csv')])\n",
    "    submissions=submissions.reset_index(drop=True)\n",
    "    return submissions.groupby('id').mean()"
   ]
  },
  {
   "cell_type": "code",
   "execution_count": 57,
   "metadata": {},
   "outputs": [
    {
     "data": {
      "text/html": [
       "<div>\n",
       "<style scoped>\n",
       "    .dataframe tbody tr th:only-of-type {\n",
       "        vertical-align: middle;\n",
       "    }\n",
       "\n",
       "    .dataframe tbody tr th {\n",
       "        vertical-align: top;\n",
       "    }\n",
       "\n",
       "    .dataframe thead th {\n",
       "        text-align: right;\n",
       "    }\n",
       "</style>\n",
       "<table border=\"1\" class=\"dataframe\">\n",
       "  <thead>\n",
       "    <tr style=\"text-align: right;\">\n",
       "      <th></th>\n",
       "      <th>value</th>\n",
       "    </tr>\n",
       "    <tr>\n",
       "      <th>id</th>\n",
       "      <th></th>\n",
       "    </tr>\n",
       "  </thead>\n",
       "  <tbody>\n",
       "    <tr>\n",
       "      <th>1</th>\n",
       "      <td>4.465717e+07</td>\n",
       "    </tr>\n",
       "    <tr>\n",
       "      <th>2</th>\n",
       "      <td>8.173072e+07</td>\n",
       "    </tr>\n",
       "    <tr>\n",
       "      <th>4</th>\n",
       "      <td>6.457705e+07</td>\n",
       "    </tr>\n",
       "    <tr>\n",
       "      <th>5</th>\n",
       "      <td>6.641926e+07</td>\n",
       "    </tr>\n",
       "    <tr>\n",
       "      <th>6</th>\n",
       "      <td>5.411441e+07</td>\n",
       "    </tr>\n",
       "    <tr>\n",
       "      <th>...</th>\n",
       "      <td>...</td>\n",
       "    </tr>\n",
       "    <tr>\n",
       "      <th>16924</th>\n",
       "      <td>5.651252e+04</td>\n",
       "    </tr>\n",
       "    <tr>\n",
       "      <th>16929</th>\n",
       "      <td>5.177817e+04</td>\n",
       "    </tr>\n",
       "    <tr>\n",
       "      <th>16932</th>\n",
       "      <td>5.988497e+04</td>\n",
       "    </tr>\n",
       "    <tr>\n",
       "      <th>16937</th>\n",
       "      <td>5.031540e+04</td>\n",
       "    </tr>\n",
       "    <tr>\n",
       "      <th>16943</th>\n",
       "      <td>4.945841e+04</td>\n",
       "    </tr>\n",
       "  </tbody>\n",
       "</table>\n",
       "<p>3828 rows × 1 columns</p>\n",
       "</div>"
      ],
      "text/plain": [
       "              value\n",
       "id                 \n",
       "1      4.465717e+07\n",
       "2      8.173072e+07\n",
       "4      6.457705e+07\n",
       "5      6.641926e+07\n",
       "6      5.411441e+07\n",
       "...             ...\n",
       "16924  5.651252e+04\n",
       "16929  5.177817e+04\n",
       "16932  5.988497e+04\n",
       "16937  5.031540e+04\n",
       "16943  4.945841e+04\n",
       "\n",
       "[3828 rows x 1 columns]"
      ]
     },
     "execution_count": 57,
     "metadata": {},
     "output_type": "execute_result"
    }
   ],
   "source": [
    "get_ensemble(25,29)"
   ]
  },
  {
   "cell_type": "code",
   "execution_count": null,
   "metadata": {},
   "outputs": [],
   "source": [
    "#get_ensemble().to_csv('./Fifa/submission_ensem.csv')"
   ]
  }
 ],
 "metadata": {
  "kernelspec": {
   "display_name": "Python 3",
   "language": "python",
   "name": "python3"
  },
  "language_info": {
   "codemirror_mode": {
    "name": "ipython",
    "version": 3
   },
   "file_extension": ".py",
   "mimetype": "text/x-python",
   "name": "python",
   "nbconvert_exporter": "python",
   "pygments_lexer": "ipython3",
   "version": "3.8.3"
  }
 },
 "nbformat": 4,
 "nbformat_minor": 4
}
